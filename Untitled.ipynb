{
 "cells": [
  {
   "cell_type": "code",
   "execution_count": 1,
   "metadata": {},
   "outputs": [],
   "source": [
    "import requests\n",
    "import json\n"
   ]
  },
  {
   "cell_type": "code",
   "execution_count": 2,
   "metadata": {},
   "outputs": [],
   "source": [
    "s=requests.Session()\n",
    "\n",
    "with open('user_filtered.json') as f:\n",
    "    userList=json.load(f)\n",
    "    \n",
    "with open('problems.json') as f:\n",
    "    problemList=json.load(f)"
   ]
  },
  {
   "cell_type": "code",
   "execution_count": 3,
   "metadata": {},
   "outputs": [],
   "source": [
    "def getProblems(s,handle):\n",
    "    submissions=json.loads(s.get(\"http://codeforces.com/api/user.status?handle=\"+handle+\"&from=1&count=100000\").text)[\"result\"]\n",
    "    l=set()\n",
    "    for submission in submissions:\n",
    "        if submission[\"verdict\"]=='OK':\n",
    "            l.add(str(submission[\"problem\"][\"contestId\"])+submission[\"problem\"][\"index\"])\n",
    "    return list(l)\n",
    "        \n",
    "    \n",
    "    "
   ]
  },
  {
   "cell_type": "code",
   "execution_count": null,
   "metadata": {},
   "outputs": [
    {
     "name": "stdout",
     "output_type": "stream",
     "text": [
      "Sumeet.Varma 1\n",
      "akshay_miterani 2\n",
      "kuldeeppatel 3\n",
      "FAIL tanmay273\n",
      "FAIL Hiren.Vaghela\n",
      "lord_bendtner 6\n",
      "yashkumar18 7\n",
      "FAIL Learner99\n",
      "aayushkapadia 9\n",
      "tarang1610 10\n",
      "Legend_Goku 11\n",
      "Rutvik_Kothari 12\n",
      "Beerus_Sama 13\n",
      "MoHib85 14\n",
      "Hardik.decoder 15\n",
      "RP_9 16\n",
      "samarthkothari 17\n",
      "ronakvaghela45 18\n",
      "HardikDobariya 19\n",
      "kunal_khatri 20\n",
      "kunalk 21\n",
      "RAMBO_tejasv 22\n",
      "a_g2009 23\n",
      "Maulik_Patel 24\n",
      "aya_cool 25\n",
      "PriyamV_181 26\n",
      "dhruval161 27\n",
      "Sabuwala.Mustafa 28\n",
      "AwwwMeraBacha 29\n",
      "Sagar_Savaliya 30\n",
      "U_Square 31\n",
      "uttam36 32\n",
      "dhrumil140396 33\n",
      "Oreo_85 34\n",
      "--UMANG-- 35\n",
      "shirishJain 36\n",
      "akdent 37\n",
      "tapanr97 38\n",
      "Grind 39\n"
     ]
    }
   ],
   "source": [
    "userCount=0\n",
    "s=requests.Session()\n",
    "for org in userList:\n",
    "    for user in userList[org]:\n",
    "        userCount+=1\n",
    "        if \"problemsSolved\" not in user:\n",
    "            try:\n",
    "                user[\"problemsSolved\"]= getProblems(s,user[\"handle\"])\n",
    "                print(user[\"handle\"],userCount)\n",
    "            except:\n",
    "                print(\"FAIL\",user[\"handle\"])"
   ]
  },
  {
   "cell_type": "code",
   "execution_count": null,
   "metadata": {},
   "outputs": [],
   "source": []
  }
 ],
 "metadata": {
  "kernelspec": {
   "display_name": "Python 3",
   "language": "python",
   "name": "python3"
  },
  "language_info": {
   "codemirror_mode": {
    "name": "ipython",
    "version": 3
   },
   "file_extension": ".py",
   "mimetype": "text/x-python",
   "name": "python",
   "nbconvert_exporter": "python",
   "pygments_lexer": "ipython3",
   "version": "3.6.4"
  }
 },
 "nbformat": 4,
 "nbformat_minor": 2
}
