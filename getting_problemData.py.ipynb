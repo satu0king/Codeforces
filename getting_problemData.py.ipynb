{
 "cells": [
  {
   "cell_type": "code",
   "execution_count": 9,
   "metadata": {},
   "outputs": [],
   "source": [
    "import json\n",
    "import requests\n",
    "from bs4 import BeautifulSoup"
   ]
  },
  {
   "cell_type": "code",
   "execution_count": 10,
   "metadata": {},
   "outputs": [],
   "source": [
    "with open('problemset.json') as f:\n",
    "    data = json.load(f)"
   ]
  },
  {
   "cell_type": "code",
   "execution_count": 11,
   "metadata": {
    "scrolled": true
   },
   "outputs": [],
   "source": [
    "s = requests.Session()\n",
    "final_data = {}\n",
    "for j, i in enumerate(data['result']['problems']):\n",
    "    prob_id = str(i['contestId']) + str(i['index'])\n",
    "    problem_data = {}\n",
    "    problem_data['name'] = i['name']\n",
    "#     r = s.get('http://codeforces.com/problemset/problem/' + str(i['contestId']) + '/' + str(i['index']))\n",
    "#     soup = BeautifulSoup(r.text)\n",
    "#     print(soup.find_all(\"span\", {\"class\" : \"tag-box\"}))\n",
    "#     data = int(soup.find_all(\"span\", {\"class\" : \"tag-box\"})[-1].text.strip()[1:])\n",
    "#     problem_data['diffuiculty'] = data\n",
    "    problem_data['tags'] = i['tags']\n",
    "    if(prob_id not in final_data):\n",
    "        final_data[prob_id] = {}\n",
    "    final_data[prob_id] = problem_data"
   ]
  },
  {
   "cell_type": "code",
   "execution_count": 12,
   "metadata": {},
   "outputs": [
    {
     "name": "stdout",
     "output_type": "stream",
     "text": [
      "1\n"
     ]
    },
    {
     "name": "stderr",
     "output_type": "stream",
     "text": [
      "/home/raghavan/anaconda3/lib/python3.6/site-packages/bs4/__init__.py:181: UserWarning: No parser was explicitly specified, so I'm using the best available HTML parser for this system (\"lxml\"). This usually isn't a problem, but if you run this code on another system, or in a different virtual environment, it may use a different parser and behave differently.\n",
      "\n",
      "The code that caused this warning is on line 193 of the file /home/raghavan/anaconda3/lib/python3.6/runpy.py. To get rid of this warning, change code that looks like this:\n",
      "\n",
      " BeautifulSoup(YOUR_MARKUP})\n",
      "\n",
      "to this:\n",
      "\n",
      " BeautifulSoup(YOUR_MARKUP, \"lxml\")\n",
      "\n",
      "  markup_type=markup_type))\n"
     ]
    },
    {
     "name": "stdout",
     "output_type": "stream",
     "text": [
      "2\n",
      "3\n",
      "4\n",
      "5\n",
      "6\n",
      "7\n",
      "8\n",
      "9\n",
      "10\n",
      "11\n",
      "12\n",
      "13\n",
      "14\n",
      "15\n",
      "16\n",
      "17\n",
      "18\n",
      "19\n",
      "20\n",
      "21\n",
      "22\n",
      "23\n",
      "24\n",
      "25\n",
      "26\n",
      "27\n",
      "28\n",
      "29\n",
      "30\n",
      "31\n",
      "32\n",
      "33\n",
      "34\n",
      "35\n",
      "36\n",
      "37\n",
      "38\n",
      "39\n",
      "40\n",
      "41\n",
      "42\n",
      "43\n",
      "44\n",
      "45\n",
      "46\n",
      "47\n"
     ]
    }
   ],
   "source": [
    "for i in range(1, 48):\n",
    "    r = s.get('http://codeforces.com/problemset/page/' + str(i))\n",
    "    soup = BeautifulSoup(r.text)\n",
    "    for j in soup.find_all(\"div\", {\"class\" : \"datatable\"}):\n",
    "        for k in j.find_all(\"tr\")[1:]:\n",
    "            try:\n",
    "                name = k.find_all(\"td\", {\"class\" : \"id\"})[0].text.strip()\n",
    "                difficulty = k.find_all(\"span\", {\"class\" : \"ProblemRating\"})[0].text.strip()\n",
    "            except:\n",
    "                continue\n",
    "            final_data[name]['difficulty'] = difficulty"
   ]
  },
  {
   "cell_type": "code",
   "execution_count": 15,
   "metadata": {},
   "outputs": [],
   "source": [
    "for i in final_data:\n",
    "    if('difficulty' not in final_data[i]):\n",
    "        final_data[i]['difficulty'] = None\n",
    "        \n",
    "with open('problems.json', 'w') as fp:\n",
    "    json.dump(final_data, fp)"
   ]
  },
  {
   "cell_type": "code",
   "execution_count": null,
   "metadata": {},
   "outputs": [],
   "source": []
  }
 ],
 "metadata": {
  "kernelspec": {
   "display_name": "Python 3",
   "language": "python",
   "name": "python3"
  },
  "language_info": {
   "codemirror_mode": {
    "name": "ipython",
    "version": 3
   },
   "file_extension": ".py",
   "mimetype": "text/x-python",
   "name": "python",
   "nbconvert_exporter": "python",
   "pygments_lexer": "ipython3",
   "version": "3.6.5"
  }
 },
 "nbformat": 4,
 "nbformat_minor": 2
}
